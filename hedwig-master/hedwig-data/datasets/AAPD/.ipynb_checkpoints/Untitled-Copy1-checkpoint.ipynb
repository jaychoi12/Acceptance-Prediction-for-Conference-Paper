{
 "cells": [
  {
   "cell_type": "code",
   "execution_count": 26,
   "metadata": {},
   "outputs": [],
   "source": [
    "import pandas as pd\n",
    "import numpy as np"
   ]
  },
  {
   "cell_type": "code",
   "execution_count": 27,
   "metadata": {},
   "outputs": [
    {
     "data": {
      "text/html": [
       "<div>\n",
       "<style scoped>\n",
       "    .dataframe tbody tr th:only-of-type {\n",
       "        vertical-align: middle;\n",
       "    }\n",
       "\n",
       "    .dataframe tbody tr th {\n",
       "        vertical-align: top;\n",
       "    }\n",
       "\n",
       "    .dataframe thead th {\n",
       "        text-align: right;\n",
       "    }\n",
       "</style>\n",
       "<table border=\"1\" class=\"dataframe\">\n",
       "  <thead>\n",
       "    <tr style=\"text-align: right;\">\n",
       "      <th></th>\n",
       "      <th>title</th>\n",
       "      <th>accept</th>\n",
       "      <th>abstract</th>\n",
       "      <th>tldr</th>\n",
       "      <th>keyword</th>\n",
       "      <th>code</th>\n",
       "      <th>title_length</th>\n",
       "      <th>abstract_length</th>\n",
       "      <th>num_of_keywords</th>\n",
       "      <th>is_code</th>\n",
       "      <th>tldr_length</th>\n",
       "      <th>abstract_word_mean</th>\n",
       "    </tr>\n",
       "  </thead>\n",
       "  <tbody>\n",
       "    <tr>\n",
       "      <th>0</th>\n",
       "      <td>On the Convergence of Adam and Beyond</td>\n",
       "      <td>1</td>\n",
       "      <td>Several recently proposed stochastic optimiza...</td>\n",
       "      <td>We investigate the convergence of popular opti...</td>\n",
       "      <td>optimization, deep learning, adam, rmsprop</td>\n",
       "      <td>NaN</td>\n",
       "      <td>7</td>\n",
       "      <td>162</td>\n",
       "      <td>4</td>\n",
       "      <td>0</td>\n",
       "      <td>28</td>\n",
       "      <td>5.537037</td>\n",
       "    </tr>\n",
       "    <tr>\n",
       "      <th>1</th>\n",
       "      <td>Synthetic and Natural Noise Both Break Neural ...</td>\n",
       "      <td>1</td>\n",
       "      <td>Character-based neural machine translation (NM...</td>\n",
       "      <td>CharNMT is brittle</td>\n",
       "      <td>neural machine translation, characters, noise,...</td>\n",
       "      <td>NaN</td>\n",
       "      <td>9</td>\n",
       "      <td>107</td>\n",
       "      <td>5</td>\n",
       "      <td>0</td>\n",
       "      <td>3</td>\n",
       "      <td>6.130841</td>\n",
       "    </tr>\n",
       "    <tr>\n",
       "      <th>2</th>\n",
       "      <td>Multi-Scale Dense Networks for Resource Effici...</td>\n",
       "      <td>1</td>\n",
       "      <td>In this paper we investigate image classificat...</td>\n",
       "      <td>NaN</td>\n",
       "      <td>efficient learning, budgeted learning, deep le...</td>\n",
       "      <td>NaN</td>\n",
       "      <td>8</td>\n",
       "      <td>173</td>\n",
       "      <td>5</td>\n",
       "      <td>0</td>\n",
       "      <td>0</td>\n",
       "      <td>6.057803</td>\n",
       "    </tr>\n",
       "    <tr>\n",
       "      <th>3</th>\n",
       "      <td>Training and Inference with Integers in Deep N...</td>\n",
       "      <td>1</td>\n",
       "      <td>Researches on deep neural networks with discre...</td>\n",
       "      <td>We apply training and inference with only low-...</td>\n",
       "      <td>quantization, training, bitwidth, ternary weights</td>\n",
       "      <td>NaN</td>\n",
       "      <td>9</td>\n",
       "      <td>170</td>\n",
       "      <td>4</td>\n",
       "      <td>0</td>\n",
       "      <td>11</td>\n",
       "      <td>6.170588</td>\n",
       "    </tr>\n",
       "    <tr>\n",
       "      <th>4</th>\n",
       "      <td>Emergence of Linguistic Communication from Ref...</td>\n",
       "      <td>1</td>\n",
       "      <td>The ability of algorithms to evolve or learn (...</td>\n",
       "      <td>A controlled study of the role of environments...</td>\n",
       "      <td>disentanglement, communication, emergent langu...</td>\n",
       "      <td>NaN</td>\n",
       "      <td>12</td>\n",
       "      <td>122</td>\n",
       "      <td>5</td>\n",
       "      <td>0</td>\n",
       "      <td>16</td>\n",
       "      <td>5.852459</td>\n",
       "    </tr>\n",
       "    <tr>\n",
       "      <th>...</th>\n",
       "      <td>...</td>\n",
       "      <td>...</td>\n",
       "      <td>...</td>\n",
       "      <td>...</td>\n",
       "      <td>...</td>\n",
       "      <td>...</td>\n",
       "      <td>...</td>\n",
       "      <td>...</td>\n",
       "      <td>...</td>\n",
       "      <td>...</td>\n",
       "      <td>...</td>\n",
       "      <td>...</td>\n",
       "    </tr>\n",
       "    <tr>\n",
       "      <th>817</th>\n",
       "      <td>Long-term Forecasting using Tensor-Train RNNs</td>\n",
       "      <td>0</td>\n",
       "      <td>We present Tensor-Train RNN (TT-RNN), a novel ...</td>\n",
       "      <td>Accurate forecasting over very long time horiz...</td>\n",
       "      <td>RNNs, time series forecasting, nonlinear dynam...</td>\n",
       "      <td>NaN</td>\n",
       "      <td>5</td>\n",
       "      <td>138</td>\n",
       "      <td>4</td>\n",
       "      <td>0</td>\n",
       "      <td>10</td>\n",
       "      <td>6.666667</td>\n",
       "    </tr>\n",
       "    <tr>\n",
       "      <th>818</th>\n",
       "      <td>A Boo(n) for Evaluating Architecture Performance</td>\n",
       "      <td>0</td>\n",
       "      <td>We point out important problems with the commo...</td>\n",
       "      <td>We point out important problems with the commo...</td>\n",
       "      <td>evaluation, methodology</td>\n",
       "      <td>NaN</td>\n",
       "      <td>6</td>\n",
       "      <td>85</td>\n",
       "      <td>2</td>\n",
       "      <td>0</td>\n",
       "      <td>30</td>\n",
       "      <td>5.705882</td>\n",
       "    </tr>\n",
       "    <tr>\n",
       "      <th>819</th>\n",
       "      <td>A novel method to determine the number of late...</td>\n",
       "      <td>0</td>\n",
       "      <td>Determining the number of latent dimensions is...</td>\n",
       "      <td>In this study, we introduce a novel method tha...</td>\n",
       "      <td>SVD, Latent Dimensions, Dimension Reductions, ...</td>\n",
       "      <td>NaN</td>\n",
       "      <td>12</td>\n",
       "      <td>166</td>\n",
       "      <td>4</td>\n",
       "      <td>0</td>\n",
       "      <td>19</td>\n",
       "      <td>5.289157</td>\n",
       "    </tr>\n",
       "    <tr>\n",
       "      <th>820</th>\n",
       "      <td>Hyperedge2vec: Distributed Representations for...</td>\n",
       "      <td>0</td>\n",
       "      <td>Data structured in form of overlapping or non-...</td>\n",
       "      <td>NaN</td>\n",
       "      <td>hypergraph, representation learning, tensors</td>\n",
       "      <td>NaN</td>\n",
       "      <td>5</td>\n",
       "      <td>307</td>\n",
       "      <td>3</td>\n",
       "      <td>0</td>\n",
       "      <td>0</td>\n",
       "      <td>5.631922</td>\n",
       "    </tr>\n",
       "    <tr>\n",
       "      <th>821</th>\n",
       "      <td>Causal Generative Neural Networks</td>\n",
       "      <td>0</td>\n",
       "      <td>We introduce CGNN, a framework to learn functi...</td>\n",
       "      <td>Discover the structure of functional causal mo...</td>\n",
       "      <td>Causal structure discovery, Generative neural ...</td>\n",
       "      <td>NaN</td>\n",
       "      <td>4</td>\n",
       "      <td>110</td>\n",
       "      <td>6</td>\n",
       "      <td>0</td>\n",
       "      <td>11</td>\n",
       "      <td>6.500000</td>\n",
       "    </tr>\n",
       "  </tbody>\n",
       "</table>\n",
       "<p>822 rows × 12 columns</p>\n",
       "</div>"
      ],
      "text/plain": [
       "                                                 title  accept  \\\n",
       "0                On the Convergence of Adam and Beyond       1   \n",
       "1    Synthetic and Natural Noise Both Break Neural ...       1   \n",
       "2    Multi-Scale Dense Networks for Resource Effici...       1   \n",
       "3    Training and Inference with Integers in Deep N...       1   \n",
       "4    Emergence of Linguistic Communication from Ref...       1   \n",
       "..                                                 ...     ...   \n",
       "817      Long-term Forecasting using Tensor-Train RNNs       0   \n",
       "818   A Boo(n) for Evaluating Architecture Performance       0   \n",
       "819  A novel method to determine the number of late...       0   \n",
       "820  Hyperedge2vec: Distributed Representations for...       0   \n",
       "821                  Causal Generative Neural Networks       0   \n",
       "\n",
       "                                              abstract  \\\n",
       "0     Several recently proposed stochastic optimiza...   \n",
       "1    Character-based neural machine translation (NM...   \n",
       "2    In this paper we investigate image classificat...   \n",
       "3    Researches on deep neural networks with discre...   \n",
       "4    The ability of algorithms to evolve or learn (...   \n",
       "..                                                 ...   \n",
       "817  We present Tensor-Train RNN (TT-RNN), a novel ...   \n",
       "818  We point out important problems with the commo...   \n",
       "819  Determining the number of latent dimensions is...   \n",
       "820  Data structured in form of overlapping or non-...   \n",
       "821  We introduce CGNN, a framework to learn functi...   \n",
       "\n",
       "                                                  tldr  \\\n",
       "0    We investigate the convergence of popular opti...   \n",
       "1                                   CharNMT is brittle   \n",
       "2                                                  NaN   \n",
       "3    We apply training and inference with only low-...   \n",
       "4    A controlled study of the role of environments...   \n",
       "..                                                 ...   \n",
       "817  Accurate forecasting over very long time horiz...   \n",
       "818  We point out important problems with the commo...   \n",
       "819  In this study, we introduce a novel method tha...   \n",
       "820                                                NaN   \n",
       "821  Discover the structure of functional causal mo...   \n",
       "\n",
       "                                               keyword  code  title_length  \\\n",
       "0           optimization, deep learning, adam, rmsprop   NaN             7   \n",
       "1    neural machine translation, characters, noise,...   NaN             9   \n",
       "2    efficient learning, budgeted learning, deep le...   NaN             8   \n",
       "3    quantization, training, bitwidth, ternary weights   NaN             9   \n",
       "4    disentanglement, communication, emergent langu...   NaN            12   \n",
       "..                                                 ...   ...           ...   \n",
       "817  RNNs, time series forecasting, nonlinear dynam...   NaN             5   \n",
       "818                            evaluation, methodology   NaN             6   \n",
       "819  SVD, Latent Dimensions, Dimension Reductions, ...   NaN            12   \n",
       "820       hypergraph, representation learning, tensors   NaN             5   \n",
       "821  Causal structure discovery, Generative neural ...   NaN             4   \n",
       "\n",
       "     abstract_length  num_of_keywords  is_code  tldr_length  \\\n",
       "0                162                4        0           28   \n",
       "1                107                5        0            3   \n",
       "2                173                5        0            0   \n",
       "3                170                4        0           11   \n",
       "4                122                5        0           16   \n",
       "..               ...              ...      ...          ...   \n",
       "817              138                4        0           10   \n",
       "818               85                2        0           30   \n",
       "819              166                4        0           19   \n",
       "820              307                3        0            0   \n",
       "821              110                6        0           11   \n",
       "\n",
       "     abstract_word_mean  \n",
       "0              5.537037  \n",
       "1              6.130841  \n",
       "2              6.057803  \n",
       "3              6.170588  \n",
       "4              5.852459  \n",
       "..                  ...  \n",
       "817            6.666667  \n",
       "818            5.705882  \n",
       "819            5.289157  \n",
       "820            5.631922  \n",
       "821            6.500000  \n",
       "\n",
       "[822 rows x 12 columns]"
      ]
     },
     "execution_count": 27,
     "metadata": {},
     "output_type": "execute_result"
    }
   ],
   "source": [
    "df1 = pd.read_csv('output_with_metadata_2018.tsv', delimiter='\\t')\n",
    "df2 = pd.read_csv('output_with_metadata_2019.tsv', delimiter='\\t')\n",
    "df3 = pd.read_csv('output_with_metadata_2020.tsv', delimiter='\\t')\n",
    "\n",
    "df1"
   ]
  },
  {
   "cell_type": "code",
   "execution_count": 28,
   "metadata": {},
   "outputs": [],
   "source": [
    "df1 = np.stack([np.array(df1['accept']), np.array(df1['abstract']), \n",
    "                np.array(df1['title_length']), np.array(df1['abstract_length']),\n",
    "                np.array(df1['num_of_keywords']), np.array(df1['is_code']),\n",
    "                np.array(df1['tldr_length']), np.array(df1['abstract_word_mean'])]).T\n",
    "df2 = np.stack([np.array(df2['accept']), np.array(df2['abstract']), \n",
    "                np.array(df2['title_length']), np.array(df2['abstract_length']),\n",
    "                np.array(df2['num_of_keywords']), np.array(df2['is_code']),\n",
    "                np.array(df2['tldr_length']), np.array(df2['abstract_word_mean'])]).T\n",
    "df3 = np.stack([np.array(df3['accept']), np.array(df3['abstract']), \n",
    "                np.array(df3['title_length']), np.array(df3['abstract_length']),\n",
    "                np.array(df3['num_of_keywords']), np.array(df3['is_code']),\n",
    "                np.array(df3['tldr_length']), np.array(df3['abstract_word_mean'])]).T"
   ]
  },
  {
   "cell_type": "code",
   "execution_count": 29,
   "metadata": {},
   "outputs": [
    {
     "data": {
      "text/plain": [
       "822"
      ]
     },
     "execution_count": 29,
     "metadata": {},
     "output_type": "execute_result"
    }
   ],
   "source": [
    "len(df1)"
   ]
  },
  {
   "cell_type": "code",
   "execution_count": 30,
   "metadata": {},
   "outputs": [
    {
     "data": {
      "text/plain": [
       "4996"
      ]
     },
     "execution_count": 30,
     "metadata": {},
     "output_type": "execute_result"
    }
   ],
   "source": [
    "df = np.concatenate([df1, df2, df3])\n",
    "len(df)"
   ]
  },
  {
   "cell_type": "code",
   "execution_count": 31,
   "metadata": {},
   "outputs": [],
   "source": [
    "\n",
    "idx = np.random.permutation(len(df))\n",
    "df = df[idx]\n",
    "# for itr in range(len(df)):\n",
    "#     if df[itr][0] == 0:\n",
    "        "
   ]
  },
  {
   "cell_type": "code",
   "execution_count": 32,
   "metadata": {},
   "outputs": [
    {
     "ename": "ValueError",
     "evalue": "invalid literal for int() with base 10: 'accept'",
     "output_type": "error",
     "traceback": [
      "\u001b[0;31m---------------------------------------------------------------------------\u001b[0m",
      "\u001b[0;31mValueError\u001b[0m                                Traceback (most recent call last)",
      "\u001b[0;32m<ipython-input-32-af033e59114d>\u001b[0m in \u001b[0;36m<module>\u001b[0;34m\u001b[0m\n\u001b[1;32m      3\u001b[0m \u001b[0;34m\u001b[0m\u001b[0m\n\u001b[1;32m      4\u001b[0m \u001b[0;32mfor\u001b[0m \u001b[0mitr\u001b[0m \u001b[0;32min\u001b[0m \u001b[0mdf\u001b[0m\u001b[0;34m:\u001b[0m\u001b[0;34m\u001b[0m\u001b[0;34m\u001b[0m\u001b[0m\n\u001b[0;32m----> 5\u001b[0;31m     \u001b[0;32mif\u001b[0m \u001b[0mint\u001b[0m\u001b[0;34m(\u001b[0m\u001b[0mitr\u001b[0m\u001b[0;34m[\u001b[0m\u001b[0;36m0\u001b[0m\u001b[0;34m]\u001b[0m\u001b[0;34m)\u001b[0m \u001b[0;34m==\u001b[0m \u001b[0;36m1\u001b[0m \u001b[0;32mand\u001b[0m \u001b[0mtype\u001b[0m\u001b[0;34m(\u001b[0m\u001b[0mitr\u001b[0m\u001b[0;34m[\u001b[0m\u001b[0;36m1\u001b[0m\u001b[0;34m]\u001b[0m\u001b[0;34m)\u001b[0m \u001b[0;34m==\u001b[0m \u001b[0mstr\u001b[0m\u001b[0;34m:\u001b[0m\u001b[0;34m\u001b[0m\u001b[0;34m\u001b[0m\u001b[0m\n\u001b[0m\u001b[1;32m      6\u001b[0m         \u001b[0mdf_true\u001b[0m\u001b[0;34m.\u001b[0m\u001b[0mappend\u001b[0m\u001b[0;34m(\u001b[0m\u001b[0mitr\u001b[0m\u001b[0;34m)\u001b[0m\u001b[0;34m\u001b[0m\u001b[0;34m\u001b[0m\u001b[0m\n\u001b[1;32m      7\u001b[0m     \u001b[0;32melif\u001b[0m \u001b[0mint\u001b[0m\u001b[0;34m(\u001b[0m\u001b[0mitr\u001b[0m\u001b[0;34m[\u001b[0m\u001b[0;36m0\u001b[0m\u001b[0;34m]\u001b[0m\u001b[0;34m)\u001b[0m \u001b[0;34m==\u001b[0m \u001b[0;36m0\u001b[0m \u001b[0;32mand\u001b[0m \u001b[0mtype\u001b[0m\u001b[0;34m(\u001b[0m\u001b[0mitr\u001b[0m\u001b[0;34m[\u001b[0m\u001b[0;36m1\u001b[0m\u001b[0;34m]\u001b[0m\u001b[0;34m)\u001b[0m \u001b[0;34m==\u001b[0m \u001b[0mstr\u001b[0m\u001b[0;34m:\u001b[0m\u001b[0;34m\u001b[0m\u001b[0;34m\u001b[0m\u001b[0m\n",
      "\u001b[0;31mValueError\u001b[0m: invalid literal for int() with base 10: 'accept'"
     ]
    }
   ],
   "source": [
    "df_false = []\n",
    "df_true = []\n",
    "\n",
    "for itr in df:\n",
    "    if itr[0] == 1 and type(itr[1]) == str:\n",
    "        df_true.append(itr)\n",
    "    elif itr[0] == 0 and type(itr[1]) == str:\n",
    "        df_false.append(itr)"
   ]
  },
  {
   "cell_type": "code",
   "execution_count": 7,
   "metadata": {},
   "outputs": [],
   "source": [
    "df_true = np.array(df_true)\n",
    "df_false = np.array(df_false)"
   ]
  },
  {
   "cell_type": "code",
   "execution_count": 8,
   "metadata": {},
   "outputs": [],
   "source": [
    "df_false = df_false[:df_true.shape[0]]"
   ]
  },
  {
   "cell_type": "code",
   "execution_count": 9,
   "metadata": {},
   "outputs": [],
   "source": [
    "df = np.concatenate([df_true, df_false])\n",
    "for itr in df:\n",
    "    if int(itr[0]) == 1:\n",
    "        itr[0] = '01'\n",
    "    else:\n",
    "        itr[0] = '10'"
   ]
  },
  {
   "cell_type": "code",
   "execution_count": 17,
   "metadata": {},
   "outputs": [],
   "source": [
    "for itr in range(len(df)):\n",
    "#     print (itr)\n",
    "    if type(df[itr][1]) != str:\n",
    "        print (itr)\n",
    "        continue\n",
    "    s = df[itr][1].split('      ')\n",
    "    k = ''\n",
    "    for itr2 in s:\n",
    "        k += itr2\n",
    "    df[itr][1] = k"
   ]
  },
  {
   "cell_type": "code",
   "execution_count": 18,
   "metadata": {},
   "outputs": [],
   "source": [
    "for itr in range(len(df)):\n",
    "#     print (itr)\n",
    "    if type(df[itr][1]) != str:\n",
    "        print (itr)\n",
    "        continue\n",
    "    s = df[itr][1].split('\\n')\n",
    "    k = ''\n",
    "    for itr2 in s:\n",
    "        k += itr2\n",
    "    df[itr][1] = k"
   ]
  },
  {
   "cell_type": "code",
   "execution_count": 22,
   "metadata": {},
   "outputs": [],
   "source": [
    "samples = df"
   ]
  },
  {
   "cell_type": "code",
   "execution_count": 23,
   "metadata": {},
   "outputs": [],
   "source": [
    "pd.DataFrame(df).to_csv('dataset.tsv', index=False, header=False, sep=\"\\t\")"
   ]
  },
  {
   "cell_type": "code",
   "execution_count": 26,
   "metadata": {},
   "outputs": [
    {
     "data": {
      "text/plain": [
       "167"
      ]
     },
     "execution_count": 26,
     "metadata": {},
     "output_type": "execute_result"
    }
   ],
   "source": [
    "int(len(samples) * 0.1)"
   ]
  },
  {
   "cell_type": "code",
   "execution_count": 34,
   "metadata": {},
   "outputs": [
    {
     "data": {
      "text/plain": [
       "1676"
      ]
     },
     "execution_count": 34,
     "metadata": {},
     "output_type": "execute_result"
    }
   ],
   "source": [
    "len(samples)"
   ]
  },
  {
   "cell_type": "code",
   "execution_count": 30,
   "metadata": {},
   "outputs": [],
   "source": [
    "i = np.random.permutation(np.arange(len(samples)))\n",
    "r = np.array(samples)[i]\n",
    "train = r[:1341]\n",
    "test = r[1341:1508]\n",
    "dev = r[1508:]"
   ]
  },
  {
   "cell_type": "code",
   "execution_count": 31,
   "metadata": {},
   "outputs": [],
   "source": [
    "train = pd.DataFrame(train, columns=['sentiment', 'review'])\n",
    "test = pd.DataFrame(test, columns=['sentiment', 'review'])\n",
    "dev = pd.DataFrame(dev, columns=['sentiment', 'review'])"
   ]
  },
  {
   "cell_type": "code",
   "execution_count": 33,
   "metadata": {},
   "outputs": [],
   "source": [
    "train.to_csv('train.tsv', index=False, header=False, sep=\"\\t\")\n",
    "test.to_csv('test.tsv', index=False, header=False, sep=\"\\t\")\n",
    "dev.to_csv('dev.tsv', index=False, header=False, sep=\"\\t\")"
   ]
  },
  {
   "cell_type": "code",
   "execution_count": null,
   "metadata": {},
   "outputs": [],
   "source": []
  }
 ],
 "metadata": {
  "kernelspec": {
   "display_name": "Python 3",
   "language": "python",
   "name": "python3"
  },
  "language_info": {
   "codemirror_mode": {
    "name": "ipython",
    "version": 3
   },
   "file_extension": ".py",
   "mimetype": "text/x-python",
   "name": "python",
   "nbconvert_exporter": "python",
   "pygments_lexer": "ipython3",
   "version": "3.7.6"
  }
 },
 "nbformat": 4,
 "nbformat_minor": 4
}
