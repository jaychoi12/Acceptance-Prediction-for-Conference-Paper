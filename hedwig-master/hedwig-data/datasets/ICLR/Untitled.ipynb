{
 "cells": [
  {
   "cell_type": "code",
   "execution_count": 1,
   "metadata": {},
   "outputs": [],
   "source": [
    "import pandas as pd\n",
    "import numpy as np"
   ]
  },
  {
   "cell_type": "code",
   "execution_count": 2,
   "metadata": {},
   "outputs": [
    {
     "data": {
      "text/html": [
       "<div>\n",
       "<style scoped>\n",
       "    .dataframe tbody tr th:only-of-type {\n",
       "        vertical-align: middle;\n",
       "    }\n",
       "\n",
       "    .dataframe tbody tr th {\n",
       "        vertical-align: top;\n",
       "    }\n",
       "\n",
       "    .dataframe thead th {\n",
       "        text-align: right;\n",
       "    }\n",
       "</style>\n",
       "<table border=\"1\" class=\"dataframe\">\n",
       "  <thead>\n",
       "    <tr style=\"text-align: right;\">\n",
       "      <th></th>\n",
       "      <th>title</th>\n",
       "      <th>accept</th>\n",
       "      <th>abstract</th>\n",
       "      <th>tldr</th>\n",
       "      <th>keyword</th>\n",
       "      <th>code</th>\n",
       "    </tr>\n",
       "  </thead>\n",
       "  <tbody>\n",
       "    <tr>\n",
       "      <th>0</th>\n",
       "      <td>\\n            Large Batch Optimization for Dee...</td>\n",
       "      <td>1</td>\n",
       "      <td>Training large deep neural networks on massive...</td>\n",
       "      <td>A fast optimizer for general applications and ...</td>\n",
       "      <td>large-batch optimization, distributed training...</td>\n",
       "      <td>https://github.com/tensorflow/addons/blob/mast...</td>\n",
       "    </tr>\n",
       "    <tr>\n",
       "      <th>1</th>\n",
       "      <td>\\n            SELF: Learning to Filter Noisy L...</td>\n",
       "      <td>1</td>\n",
       "      <td>Deep neural networks (DNNs) have been shown to...</td>\n",
       "      <td>We propose a self-ensemble framework to train ...</td>\n",
       "      <td>Ensemble Learning, Robust Learning, Noisy Labe...</td>\n",
       "      <td>NaN</td>\n",
       "    </tr>\n",
       "    <tr>\n",
       "      <th>2</th>\n",
       "      <td>\\n            Reinforcement Learning Based Gra...</td>\n",
       "      <td>1</td>\n",
       "      <td>Natural question generation (QG) aims to gener...</td>\n",
       "      <td>NaN</td>\n",
       "      <td>deep learning, reinforcement learning, graph n...</td>\n",
       "      <td>https://github.com/hugochan/RL-based-Graph2Seq...</td>\n",
       "    </tr>\n",
       "    <tr>\n",
       "      <th>3</th>\n",
       "      <td>\\n            Sharing Knowledge in Multi-Task ...</td>\n",
       "      <td>1</td>\n",
       "      <td>We study the benefit of sharing representation...</td>\n",
       "      <td>A study on the benefit of sharing representati...</td>\n",
       "      <td>Deep Reinforcement Learning, Multi-Task</td>\n",
       "      <td>https://github.com/carloderamo/shared/tree/master</td>\n",
       "    </tr>\n",
       "    <tr>\n",
       "      <th>4</th>\n",
       "      <td>\\n            On the Weaknesses of Reinforceme...</td>\n",
       "      <td>1</td>\n",
       "      <td>Reinforcement learning (RL) is frequently used...</td>\n",
       "      <td>Reinforcment practices for machine translation...</td>\n",
       "      <td>Reinforcement learning, MRT, minimum risk trai...</td>\n",
       "      <td>NaN</td>\n",
       "    </tr>\n",
       "    <tr>\n",
       "      <th>...</th>\n",
       "      <td>...</td>\n",
       "      <td>...</td>\n",
       "      <td>...</td>\n",
       "      <td>...</td>\n",
       "      <td>...</td>\n",
       "      <td>...</td>\n",
       "    </tr>\n",
       "    <tr>\n",
       "      <th>2590</th>\n",
       "      <td>\\n            Stochastic Gradient Methods with...</td>\n",
       "      <td>0</td>\n",
       "      <td>Adaptive gradient approaches that automaticall...</td>\n",
       "      <td>NaN</td>\n",
       "      <td>Optimization for Deep Networks, Non-convex Opt...</td>\n",
       "      <td>NaN</td>\n",
       "    </tr>\n",
       "    <tr>\n",
       "      <th>2591</th>\n",
       "      <td>\\n            Smooth Regularized Reinforcement...</td>\n",
       "      <td>0</td>\n",
       "      <td>place holder</td>\n",
       "      <td>NaN</td>\n",
       "      <td>NaN</td>\n",
       "      <td>NaN</td>\n",
       "    </tr>\n",
       "    <tr>\n",
       "      <th>2592</th>\n",
       "      <td>\\n            Resolving Lexical Ambiguity in E...</td>\n",
       "      <td>0</td>\n",
       "      <td>Lexical ambiguity, i.e., the presence of two o...</td>\n",
       "      <td>The paper solves a lexical ambiguity problem c...</td>\n",
       "      <td>Neural Machine Translation, Lexical Ambiguity,...</td>\n",
       "      <td>NaN</td>\n",
       "    </tr>\n",
       "    <tr>\n",
       "      <th>2593</th>\n",
       "      <td>\\n            ATLPA:ADVERSARIAL TOLERANT LOGIT...</td>\n",
       "      <td>0</td>\n",
       "      <td>Though deep neural networks have achieved the ...</td>\n",
       "      <td>In this paper, we propose a novel regularized ...</td>\n",
       "      <td>adversarial examples, adversarial training, co...</td>\n",
       "      <td>NaN</td>\n",
       "    </tr>\n",
       "    <tr>\n",
       "      <th>2594</th>\n",
       "      <td>\\n            DRASIC: Distributed Recurrent Au...</td>\n",
       "      <td>0</td>\n",
       "      <td>We propose a new architecture for distributed ...</td>\n",
       "      <td>We introduce a data-driven Distributed Source ...</td>\n",
       "      <td>Image Compression, Distributed Source Coding</td>\n",
       "      <td>NaN</td>\n",
       "    </tr>\n",
       "  </tbody>\n",
       "</table>\n",
       "<p>2595 rows × 6 columns</p>\n",
       "</div>"
      ],
      "text/plain": [
       "                                                  title accept  \\\n",
       "0     \\n            Large Batch Optimization for Dee...      1   \n",
       "1     \\n            SELF: Learning to Filter Noisy L...      1   \n",
       "2     \\n            Reinforcement Learning Based Gra...      1   \n",
       "3     \\n            Sharing Knowledge in Multi-Task ...      1   \n",
       "4     \\n            On the Weaknesses of Reinforceme...      1   \n",
       "...                                                 ...    ...   \n",
       "2590  \\n            Stochastic Gradient Methods with...      0   \n",
       "2591  \\n            Smooth Regularized Reinforcement...      0   \n",
       "2592  \\n            Resolving Lexical Ambiguity in E...      0   \n",
       "2593  \\n            ATLPA:ADVERSARIAL TOLERANT LOGIT...      0   \n",
       "2594  \\n            DRASIC: Distributed Recurrent Au...      0   \n",
       "\n",
       "                                               abstract  \\\n",
       "0     Training large deep neural networks on massive...   \n",
       "1     Deep neural networks (DNNs) have been shown to...   \n",
       "2     Natural question generation (QG) aims to gener...   \n",
       "3     We study the benefit of sharing representation...   \n",
       "4     Reinforcement learning (RL) is frequently used...   \n",
       "...                                                 ...   \n",
       "2590  Adaptive gradient approaches that automaticall...   \n",
       "2591                                       place holder   \n",
       "2592  Lexical ambiguity, i.e., the presence of two o...   \n",
       "2593  Though deep neural networks have achieved the ...   \n",
       "2594  We propose a new architecture for distributed ...   \n",
       "\n",
       "                                                   tldr  \\\n",
       "0     A fast optimizer for general applications and ...   \n",
       "1     We propose a self-ensemble framework to train ...   \n",
       "2                                                   NaN   \n",
       "3     A study on the benefit of sharing representati...   \n",
       "4     Reinforcment practices for machine translation...   \n",
       "...                                                 ...   \n",
       "2590                                                NaN   \n",
       "2591                                                NaN   \n",
       "2592  The paper solves a lexical ambiguity problem c...   \n",
       "2593  In this paper, we propose a novel regularized ...   \n",
       "2594  We introduce a data-driven Distributed Source ...   \n",
       "\n",
       "                                                keyword  \\\n",
       "0     large-batch optimization, distributed training...   \n",
       "1     Ensemble Learning, Robust Learning, Noisy Labe...   \n",
       "2     deep learning, reinforcement learning, graph n...   \n",
       "3               Deep Reinforcement Learning, Multi-Task   \n",
       "4     Reinforcement learning, MRT, minimum risk trai...   \n",
       "...                                                 ...   \n",
       "2590  Optimization for Deep Networks, Non-convex Opt...   \n",
       "2591                                                NaN   \n",
       "2592  Neural Machine Translation, Lexical Ambiguity,...   \n",
       "2593  adversarial examples, adversarial training, co...   \n",
       "2594       Image Compression, Distributed Source Coding   \n",
       "\n",
       "                                                   code  \n",
       "0     https://github.com/tensorflow/addons/blob/mast...  \n",
       "1                                                   NaN  \n",
       "2     https://github.com/hugochan/RL-based-Graph2Seq...  \n",
       "3     https://github.com/carloderamo/shared/tree/master  \n",
       "4                                                   NaN  \n",
       "...                                                 ...  \n",
       "2590                                                NaN  \n",
       "2591                                                NaN  \n",
       "2592                                                NaN  \n",
       "2593                                                NaN  \n",
       "2594                                                NaN  \n",
       "\n",
       "[2595 rows x 6 columns]"
      ]
     },
     "execution_count": 2,
     "metadata": {},
     "output_type": "execute_result"
    }
   ],
   "source": [
    "df1 = pd.read_csv('output_2018.tsv', delimiter='\\t')\n",
    "df2 = pd.read_csv('output_2019.tsv', delimiter='\\t')\n",
    "df3 = pd.read_csv('output_2020.tsv', delimiter='\\t')\n",
    "df3"
   ]
  },
  {
   "cell_type": "code",
   "execution_count": 3,
   "metadata": {},
   "outputs": [],
   "source": [
    "df1 = np.stack([np.array(df1['accept']), np.array(df1['abstract'])]).T\n",
    "df2 = np.stack([np.array(df2['accept']), np.array(df2['abstract'])]).T\n",
    "df3 = np.stack([np.array(df3['accept']), np.array(df3['abstract'])]).T"
   ]
  },
  {
   "cell_type": "code",
   "execution_count": 4,
   "metadata": {},
   "outputs": [
    {
     "data": {
      "text/plain": [
       "4996"
      ]
     },
     "execution_count": 4,
     "metadata": {},
     "output_type": "execute_result"
    }
   ],
   "source": [
    "df = np.concatenate([df1, df2, df3])\n",
    "len(df)"
   ]
  },
  {
   "cell_type": "code",
   "execution_count": 5,
   "metadata": {},
   "outputs": [],
   "source": [
    "\n",
    "idx = np.random.permutation(len(df))\n",
    "df = df[idx]\n",
    "# for itr in range(len(df)):\n",
    "#     if df[itr][0] == 0:\n",
    "        "
   ]
  },
  {
   "cell_type": "code",
   "execution_count": 6,
   "metadata": {},
   "outputs": [],
   "source": [
    "df_false = []\n",
    "df_true = []\n",
    "\n",
    "for itr in df:\n",
    "    if itr[0] == 1 and type(itr[1]) == str:\n",
    "        df_true.append(itr)\n",
    "    elif itr[0] == 0 and type(itr[1]) == str:\n",
    "        df_false.append(itr)"
   ]
  },
  {
   "cell_type": "code",
   "execution_count": 7,
   "metadata": {},
   "outputs": [],
   "source": [
    "df_true = np.array(df_true)\n",
    "df_false = np.array(df_false)"
   ]
  },
  {
   "cell_type": "code",
   "execution_count": 8,
   "metadata": {},
   "outputs": [],
   "source": [
    "df_false = df_false[:df_true.shape[0]]"
   ]
  },
  {
   "cell_type": "code",
   "execution_count": 9,
   "metadata": {},
   "outputs": [],
   "source": [
    "df = np.concatenate([df_true, df_false])\n",
    "for itr in df:\n",
    "    if itr[0] == 1:\n",
    "        itr[0] = '01'\n",
    "    else:\n",
    "        itr[0] = '10'"
   ]
  },
  {
   "cell_type": "code",
   "execution_count": 17,
   "metadata": {},
   "outputs": [],
   "source": [
    "for itr in range(len(df)):\n",
    "#     print (itr)\n",
    "    if type(df[itr][1]) != str:\n",
    "        print (itr)\n",
    "        continue\n",
    "    s = df[itr][1].split('      ')\n",
    "    k = ''\n",
    "    for itr2 in s:\n",
    "        k += itr2\n",
    "    df[itr][1] = k"
   ]
  },
  {
   "cell_type": "code",
   "execution_count": 18,
   "metadata": {},
   "outputs": [],
   "source": [
    "for itr in range(len(df)):\n",
    "#     print (itr)\n",
    "    if type(df[itr][1]) != str:\n",
    "        print (itr)\n",
    "        continue\n",
    "    s = df[itr][1].split('\\n')\n",
    "    k = ''\n",
    "    for itr2 in s:\n",
    "        k += itr2\n",
    "    df[itr][1] = k"
   ]
  },
  {
   "cell_type": "code",
   "execution_count": 22,
   "metadata": {},
   "outputs": [],
   "source": [
    "samples = df"
   ]
  },
  {
   "cell_type": "code",
   "execution_count": 23,
   "metadata": {},
   "outputs": [],
   "source": [
    "pd.DataFrame(df).to_csv('dataset.tsv', index=False, header=False, sep=\"\\t\")"
   ]
  },
  {
   "cell_type": "code",
   "execution_count": 26,
   "metadata": {},
   "outputs": [
    {
     "data": {
      "text/plain": [
       "167"
      ]
     },
     "execution_count": 26,
     "metadata": {},
     "output_type": "execute_result"
    }
   ],
   "source": [
    "int(len(samples) * 0.1)"
   ]
  },
  {
   "cell_type": "code",
   "execution_count": 34,
   "metadata": {},
   "outputs": [
    {
     "data": {
      "text/plain": [
       "1676"
      ]
     },
     "execution_count": 34,
     "metadata": {},
     "output_type": "execute_result"
    }
   ],
   "source": [
    "len(samples)"
   ]
  },
  {
   "cell_type": "code",
   "execution_count": 30,
   "metadata": {},
   "outputs": [],
   "source": [
    "i = np.random.permutation(np.arange(len(samples)))\n",
    "r = np.array(samples)[i]\n",
    "train = r[:1341]\n",
    "test = r[1341:1508]\n",
    "dev = r[1508:]"
   ]
  },
  {
   "cell_type": "code",
   "execution_count": 31,
   "metadata": {},
   "outputs": [],
   "source": [
    "train = pd.DataFrame(train, columns=['sentiment', 'review'])\n",
    "test = pd.DataFrame(test, columns=['sentiment', 'review'])\n",
    "dev = pd.DataFrame(dev, columns=['sentiment', 'review'])"
   ]
  },
  {
   "cell_type": "code",
   "execution_count": 33,
   "metadata": {},
   "outputs": [],
   "source": [
    "train.to_csv('train.tsv', index=False, header=False, sep=\"\\t\")\n",
    "test.to_csv('test.tsv', index=False, header=False, sep=\"\\t\")\n",
    "dev.to_csv('dev.tsv', index=False, header=False, sep=\"\\t\")"
   ]
  },
  {
   "cell_type": "code",
   "execution_count": null,
   "metadata": {},
   "outputs": [],
   "source": []
  }
 ],
 "metadata": {
  "kernelspec": {
   "display_name": "Python 3",
   "language": "python",
   "name": "python3"
  },
  "language_info": {
   "codemirror_mode": {
    "name": "ipython",
    "version": 3
   },
   "file_extension": ".py",
   "mimetype": "text/x-python",
   "name": "python",
   "nbconvert_exporter": "python",
   "pygments_lexer": "ipython3",
   "version": "3.7.6"
  }
 },
 "nbformat": 4,
 "nbformat_minor": 4
}
