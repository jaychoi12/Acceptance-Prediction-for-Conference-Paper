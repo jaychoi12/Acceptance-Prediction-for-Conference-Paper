{
 "cells": [
  {
   "cell_type": "code",
   "execution_count": 7,
   "metadata": {},
   "outputs": [],
   "source": [
    "import zipfile\n",
    "import tarfile\n",
    "         \n",
    "fantasy_zip = tarfile.open('./embeddings/word2vec/GoogleNews-vectors-negative300.tgz')\n",
    "fantasy_zip.extract('GoogleNews-vectors-negative300.txt', './embeddings/word2vec')\n",
    "\n",
    "fantasy_zip.close()"
   ]
  },
  {
   "cell_type": "code",
   "execution_count": 5,
   "metadata": {},
   "outputs": [],
   "source": [
    "# import zipfile\n",
    "# import tarfile\n",
    "         \n",
    "# fantasy_zip = zipfile.ZipFile('embeddings.zip')\n",
    "# fantasy_zip.extractall('embeddings')\n",
    "\n",
    "# fantasy_zip.close()"
   ]
  },
  {
   "cell_type": "code",
   "execution_count": null,
   "metadata": {},
   "outputs": [],
   "source": []
  }
 ],
 "metadata": {
  "kernelspec": {
   "display_name": "Python 3",
   "language": "python",
   "name": "python3"
  },
  "language_info": {
   "codemirror_mode": {
    "name": "ipython",
    "version": 3
   },
   "file_extension": ".py",
   "mimetype": "text/x-python",
   "name": "python",
   "nbconvert_exporter": "python",
   "pygments_lexer": "ipython3",
   "version": "3.7.6"
  }
 },
 "nbformat": 4,
 "nbformat_minor": 4
}
